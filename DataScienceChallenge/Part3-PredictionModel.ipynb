{
 "cells": [
  {
   "cell_type": "code",
   "execution_count": 1,
   "metadata": {
    "collapsed": true
   },
   "outputs": [],
   "source": [
    "# Importing the packages\n",
    "import pandas as pd\n",
    "import numpy as np\n",
    "import matplotlib.pylab as plt\n",
    "import seaborn as sns\n",
    "from sklearn.model_selection import train_test_split \n",
    "from sklearn.linear_model import LogisticRegression\n",
    "from sklearn.metrics import classification_report\n",
    "from sklearn.metrics import roc_curve\n",
    "from sklearn.model_selection import cross_val_score\n",
    "from sklearn.model_selection import GridSearchCV\n",
    "from sklearn import svm\n",
    "from sklearn.model_selection import RandomizedSearchCV \n",
    "from sklearn.ensemble import RandomForestClassifier\n",
    "from sklearn.ensemble import GradientBoostingClassifier\n",
    "from sklearn.ensemble import AdaBoostClassifier\n",
    "from sklearn.neighbors import KNeighborsClassifier\n",
    "from sklearn.preprocessing import StandardScaler\n",
    "from sklearn.pipeline import Pipeline\n",
    "from sklearn.metrics import precision_score\n",
    "from sklearn.metrics import roc_auc_score\n",
    "from sklearn.metrics import average_precision_score\n",
    "from sklearn.metrics import precision_recall_curve\n",
    "%matplotlib inline"
   ]
  },
  {
   "cell_type": "markdown",
   "metadata": {},
   "source": [
    "Client requirement is to build a model to **predict rider retention**.  customer is considered as retained if they are active in 6th month. I included here target variable as longterm_user and set that to 1 if customer is active in 6th month.\n",
    "</br>"
   ]
  },
  {
   "cell_type": "code",
   "execution_count": 2,
   "metadata": {},
   "outputs": [
    {
     "data": {
      "text/html": [
       "<div>\n",
       "<style>\n",
       "    .dataframe thead tr:only-child th {\n",
       "        text-align: right;\n",
       "    }\n",
       "\n",
       "    .dataframe thead th {\n",
       "        text-align: left;\n",
       "    }\n",
       "\n",
       "    .dataframe tbody tr th {\n",
       "        vertical-align: top;\n",
       "    }\n",
       "</style>\n",
       "<table border=\"1\" class=\"dataframe\">\n",
       "  <thead>\n",
       "    <tr style=\"text-align: right;\">\n",
       "      <th></th>\n",
       "      <th>avg_dist</th>\n",
       "      <th>avg_rating_by_driver</th>\n",
       "      <th>avg_rating_of_driver</th>\n",
       "      <th>avg_surge</th>\n",
       "      <th>city</th>\n",
       "      <th>last_trip_date</th>\n",
       "      <th>phone</th>\n",
       "      <th>signup_date</th>\n",
       "      <th>surge_pct</th>\n",
       "      <th>trips_in_first_30_days</th>\n",
       "      <th>ultimate_black_user</th>\n",
       "      <th>weekday_pct</th>\n",
       "      <th>longterm_user</th>\n",
       "    </tr>\n",
       "  </thead>\n",
       "  <tbody>\n",
       "    <tr>\n",
       "      <th>0</th>\n",
       "      <td>3.67</td>\n",
       "      <td>5.0</td>\n",
       "      <td>4.7</td>\n",
       "      <td>1.10</td>\n",
       "      <td>King's Landing</td>\n",
       "      <td>2014-06-17</td>\n",
       "      <td>iPhone</td>\n",
       "      <td>2014-01-25</td>\n",
       "      <td>15.4</td>\n",
       "      <td>4</td>\n",
       "      <td>True</td>\n",
       "      <td>46.2</td>\n",
       "      <td>0</td>\n",
       "    </tr>\n",
       "    <tr>\n",
       "      <th>1</th>\n",
       "      <td>8.26</td>\n",
       "      <td>5.0</td>\n",
       "      <td>5.0</td>\n",
       "      <td>1.00</td>\n",
       "      <td>Astapor</td>\n",
       "      <td>2014-05-05</td>\n",
       "      <td>Android</td>\n",
       "      <td>2014-01-29</td>\n",
       "      <td>0.0</td>\n",
       "      <td>0</td>\n",
       "      <td>False</td>\n",
       "      <td>50.0</td>\n",
       "      <td>0</td>\n",
       "    </tr>\n",
       "    <tr>\n",
       "      <th>2</th>\n",
       "      <td>0.77</td>\n",
       "      <td>5.0</td>\n",
       "      <td>4.3</td>\n",
       "      <td>1.00</td>\n",
       "      <td>Astapor</td>\n",
       "      <td>2014-01-07</td>\n",
       "      <td>iPhone</td>\n",
       "      <td>2014-01-06</td>\n",
       "      <td>0.0</td>\n",
       "      <td>3</td>\n",
       "      <td>False</td>\n",
       "      <td>100.0</td>\n",
       "      <td>0</td>\n",
       "    </tr>\n",
       "    <tr>\n",
       "      <th>3</th>\n",
       "      <td>2.36</td>\n",
       "      <td>4.9</td>\n",
       "      <td>4.6</td>\n",
       "      <td>1.14</td>\n",
       "      <td>King's Landing</td>\n",
       "      <td>2014-06-29</td>\n",
       "      <td>iPhone</td>\n",
       "      <td>2014-01-10</td>\n",
       "      <td>20.0</td>\n",
       "      <td>9</td>\n",
       "      <td>True</td>\n",
       "      <td>80.0</td>\n",
       "      <td>1</td>\n",
       "    </tr>\n",
       "    <tr>\n",
       "      <th>4</th>\n",
       "      <td>3.13</td>\n",
       "      <td>4.9</td>\n",
       "      <td>4.4</td>\n",
       "      <td>1.19</td>\n",
       "      <td>Winterfell</td>\n",
       "      <td>2014-03-15</td>\n",
       "      <td>Android</td>\n",
       "      <td>2014-01-27</td>\n",
       "      <td>11.8</td>\n",
       "      <td>14</td>\n",
       "      <td>False</td>\n",
       "      <td>82.4</td>\n",
       "      <td>0</td>\n",
       "    </tr>\n",
       "  </tbody>\n",
       "</table>\n",
       "</div>"
      ],
      "text/plain": [
       "   avg_dist  avg_rating_by_driver  avg_rating_of_driver  avg_surge  \\\n",
       "0      3.67                   5.0                   4.7       1.10   \n",
       "1      8.26                   5.0                   5.0       1.00   \n",
       "2      0.77                   5.0                   4.3       1.00   \n",
       "3      2.36                   4.9                   4.6       1.14   \n",
       "4      3.13                   4.9                   4.4       1.19   \n",
       "\n",
       "             city last_trip_date    phone signup_date  surge_pct  \\\n",
       "0  King's Landing     2014-06-17   iPhone  2014-01-25       15.4   \n",
       "1         Astapor     2014-05-05  Android  2014-01-29        0.0   \n",
       "2         Astapor     2014-01-07   iPhone  2014-01-06        0.0   \n",
       "3  King's Landing     2014-06-29   iPhone  2014-01-10       20.0   \n",
       "4      Winterfell     2014-03-15  Android  2014-01-27       11.8   \n",
       "\n",
       "   trips_in_first_30_days  ultimate_black_user  weekday_pct  longterm_user  \n",
       "0                       4                 True         46.2              0  \n",
       "1                       0                False         50.0              0  \n",
       "2                       3                False        100.0              0  \n",
       "3                       9                 True         80.0              1  \n",
       "4                      14                False         82.4              0  "
      ]
     },
     "execution_count": 2,
     "metadata": {},
     "output_type": "execute_result"
    }
   ],
   "source": [
    "#Read and validate the previously cleaned file\n",
    "df = pd.read_csv('ultimate_data_challenge_clean.csv')\n",
    "df.head()\n"
   ]
  },
  {
   "cell_type": "code",
   "execution_count": 3,
   "metadata": {
    "collapsed": true
   },
   "outputs": [],
   "source": [
    "df1 = pd.DataFrame(df)"
   ]
  },
  {
   "cell_type": "code",
   "execution_count": 4,
   "metadata": {},
   "outputs": [
    {
     "data": {
      "text/plain": [
       "(48581, 13)"
      ]
     },
     "execution_count": 4,
     "metadata": {},
     "output_type": "execute_result"
    }
   ],
   "source": [
    "df.shape"
   ]
  },
  {
   "cell_type": "markdown",
   "metadata": {},
   "source": [
    "We will **convert the object and Boolean type to numerical** so we can run the distance base classifier as SVM, KNN. I will use 70% of data for training and 30% data for testing."
   ]
  },
  {
   "cell_type": "code",
   "execution_count": 5,
   "metadata": {},
   "outputs": [
    {
     "data": {
      "text/html": [
       "<div>\n",
       "<style>\n",
       "    .dataframe thead tr:only-child th {\n",
       "        text-align: right;\n",
       "    }\n",
       "\n",
       "    .dataframe thead th {\n",
       "        text-align: left;\n",
       "    }\n",
       "\n",
       "    .dataframe tbody tr th {\n",
       "        vertical-align: top;\n",
       "    }\n",
       "</style>\n",
       "<table border=\"1\" class=\"dataframe\">\n",
       "  <thead>\n",
       "    <tr style=\"text-align: right;\">\n",
       "      <th></th>\n",
       "      <th>phone_iPhone</th>\n",
       "      <th>city_Astapor</th>\n",
       "      <th>city_King's Landing</th>\n",
       "    </tr>\n",
       "  </thead>\n",
       "  <tbody>\n",
       "    <tr>\n",
       "      <th>0</th>\n",
       "      <td>1</td>\n",
       "      <td>0</td>\n",
       "      <td>1</td>\n",
       "    </tr>\n",
       "    <tr>\n",
       "      <th>1</th>\n",
       "      <td>0</td>\n",
       "      <td>1</td>\n",
       "      <td>0</td>\n",
       "    </tr>\n",
       "    <tr>\n",
       "      <th>2</th>\n",
       "      <td>1</td>\n",
       "      <td>1</td>\n",
       "      <td>0</td>\n",
       "    </tr>\n",
       "    <tr>\n",
       "      <th>3</th>\n",
       "      <td>1</td>\n",
       "      <td>0</td>\n",
       "      <td>1</td>\n",
       "    </tr>\n",
       "    <tr>\n",
       "      <th>4</th>\n",
       "      <td>0</td>\n",
       "      <td>0</td>\n",
       "      <td>0</td>\n",
       "    </tr>\n",
       "  </tbody>\n",
       "</table>\n",
       "</div>"
      ],
      "text/plain": [
       "   phone_iPhone  city_Astapor  city_King's Landing\n",
       "0             1             0                    1\n",
       "1             0             1                    0\n",
       "2             1             1                    0\n",
       "3             1             0                    1\n",
       "4             0             0                    0"
      ]
     },
     "execution_count": 5,
     "metadata": {},
     "output_type": "execute_result"
    }
   ],
   "source": [
    "# Create a set of dummy variables from the phone & city variable\n",
    "df_dummy = pd.get_dummies(df[['phone','city']])\n",
    "df_dummy = df_dummy.drop(['phone_Android', 'city_Winterfell'], axis=1)\n",
    "df_dummy.head()"
   ]
  },
  {
   "cell_type": "code",
   "execution_count": 6,
   "metadata": {},
   "outputs": [
    {
     "data": {
      "text/html": [
       "<div>\n",
       "<style>\n",
       "    .dataframe thead tr:only-child th {\n",
       "        text-align: right;\n",
       "    }\n",
       "\n",
       "    .dataframe thead th {\n",
       "        text-align: left;\n",
       "    }\n",
       "\n",
       "    .dataframe tbody tr th {\n",
       "        vertical-align: top;\n",
       "    }\n",
       "</style>\n",
       "<table border=\"1\" class=\"dataframe\">\n",
       "  <thead>\n",
       "    <tr style=\"text-align: right;\">\n",
       "      <th></th>\n",
       "      <th>avg_dist</th>\n",
       "      <th>avg_rating_by_driver</th>\n",
       "      <th>avg_rating_of_driver</th>\n",
       "      <th>avg_surge</th>\n",
       "      <th>city</th>\n",
       "      <th>last_trip_date</th>\n",
       "      <th>phone</th>\n",
       "      <th>signup_date</th>\n",
       "      <th>surge_pct</th>\n",
       "      <th>trips_in_first_30_days</th>\n",
       "      <th>ultimate_black_user</th>\n",
       "      <th>weekday_pct</th>\n",
       "      <th>longterm_user</th>\n",
       "      <th>phone_iPhone</th>\n",
       "      <th>city_Astapor</th>\n",
       "      <th>city_King's Landing</th>\n",
       "    </tr>\n",
       "  </thead>\n",
       "  <tbody>\n",
       "    <tr>\n",
       "      <th>0</th>\n",
       "      <td>3.67</td>\n",
       "      <td>5.0</td>\n",
       "      <td>4.7</td>\n",
       "      <td>1.10</td>\n",
       "      <td>King's Landing</td>\n",
       "      <td>2014-06-17</td>\n",
       "      <td>iPhone</td>\n",
       "      <td>2014-01-25</td>\n",
       "      <td>15.4</td>\n",
       "      <td>4</td>\n",
       "      <td>True</td>\n",
       "      <td>46.2</td>\n",
       "      <td>0</td>\n",
       "      <td>1</td>\n",
       "      <td>0</td>\n",
       "      <td>1</td>\n",
       "    </tr>\n",
       "    <tr>\n",
       "      <th>1</th>\n",
       "      <td>8.26</td>\n",
       "      <td>5.0</td>\n",
       "      <td>5.0</td>\n",
       "      <td>1.00</td>\n",
       "      <td>Astapor</td>\n",
       "      <td>2014-05-05</td>\n",
       "      <td>Android</td>\n",
       "      <td>2014-01-29</td>\n",
       "      <td>0.0</td>\n",
       "      <td>0</td>\n",
       "      <td>False</td>\n",
       "      <td>50.0</td>\n",
       "      <td>0</td>\n",
       "      <td>0</td>\n",
       "      <td>1</td>\n",
       "      <td>0</td>\n",
       "    </tr>\n",
       "    <tr>\n",
       "      <th>2</th>\n",
       "      <td>0.77</td>\n",
       "      <td>5.0</td>\n",
       "      <td>4.3</td>\n",
       "      <td>1.00</td>\n",
       "      <td>Astapor</td>\n",
       "      <td>2014-01-07</td>\n",
       "      <td>iPhone</td>\n",
       "      <td>2014-01-06</td>\n",
       "      <td>0.0</td>\n",
       "      <td>3</td>\n",
       "      <td>False</td>\n",
       "      <td>100.0</td>\n",
       "      <td>0</td>\n",
       "      <td>1</td>\n",
       "      <td>1</td>\n",
       "      <td>0</td>\n",
       "    </tr>\n",
       "    <tr>\n",
       "      <th>3</th>\n",
       "      <td>2.36</td>\n",
       "      <td>4.9</td>\n",
       "      <td>4.6</td>\n",
       "      <td>1.14</td>\n",
       "      <td>King's Landing</td>\n",
       "      <td>2014-06-29</td>\n",
       "      <td>iPhone</td>\n",
       "      <td>2014-01-10</td>\n",
       "      <td>20.0</td>\n",
       "      <td>9</td>\n",
       "      <td>True</td>\n",
       "      <td>80.0</td>\n",
       "      <td>1</td>\n",
       "      <td>1</td>\n",
       "      <td>0</td>\n",
       "      <td>1</td>\n",
       "    </tr>\n",
       "    <tr>\n",
       "      <th>4</th>\n",
       "      <td>3.13</td>\n",
       "      <td>4.9</td>\n",
       "      <td>4.4</td>\n",
       "      <td>1.19</td>\n",
       "      <td>Winterfell</td>\n",
       "      <td>2014-03-15</td>\n",
       "      <td>Android</td>\n",
       "      <td>2014-01-27</td>\n",
       "      <td>11.8</td>\n",
       "      <td>14</td>\n",
       "      <td>False</td>\n",
       "      <td>82.4</td>\n",
       "      <td>0</td>\n",
       "      <td>0</td>\n",
       "      <td>0</td>\n",
       "      <td>0</td>\n",
       "    </tr>\n",
       "  </tbody>\n",
       "</table>\n",
       "</div>"
      ],
      "text/plain": [
       "   avg_dist  avg_rating_by_driver  avg_rating_of_driver  avg_surge  \\\n",
       "0      3.67                   5.0                   4.7       1.10   \n",
       "1      8.26                   5.0                   5.0       1.00   \n",
       "2      0.77                   5.0                   4.3       1.00   \n",
       "3      2.36                   4.9                   4.6       1.14   \n",
       "4      3.13                   4.9                   4.4       1.19   \n",
       "\n",
       "             city last_trip_date    phone signup_date  surge_pct  \\\n",
       "0  King's Landing     2014-06-17   iPhone  2014-01-25       15.4   \n",
       "1         Astapor     2014-05-05  Android  2014-01-29        0.0   \n",
       "2         Astapor     2014-01-07   iPhone  2014-01-06        0.0   \n",
       "3  King's Landing     2014-06-29   iPhone  2014-01-10       20.0   \n",
       "4      Winterfell     2014-03-15  Android  2014-01-27       11.8   \n",
       "\n",
       "   trips_in_first_30_days  ultimate_black_user  weekday_pct  longterm_user  \\\n",
       "0                       4                 True         46.2              0   \n",
       "1                       0                False         50.0              0   \n",
       "2                       3                False        100.0              0   \n",
       "3                       9                 True         80.0              1   \n",
       "4                      14                False         82.4              0   \n",
       "\n",
       "   phone_iPhone  city_Astapor  city_King's Landing  \n",
       "0             1             0                    1  \n",
       "1             0             1                    0  \n",
       "2             1             1                    0  \n",
       "3             1             0                    1  \n",
       "4             0             0                    0  "
      ]
     },
     "execution_count": 6,
     "metadata": {},
     "output_type": "execute_result"
    }
   ],
   "source": [
    "df =pd.concat([df,df_dummy], axis=1)\n",
    "df.head()"
   ]
  },
  {
   "cell_type": "code",
   "execution_count": 7,
   "metadata": {
    "collapsed": true
   },
   "outputs": [],
   "source": [
    "df['ultimate_black_user_n'] = df.ultimate_black_user.map({True:1, False:0})"
   ]
  },
  {
   "cell_type": "code",
   "execution_count": 8,
   "metadata": {
    "collapsed": true
   },
   "outputs": [],
   "source": [
    "df = df.drop(['city', 'phone','ultimate_black_user'], axis=1)"
   ]
  },
  {
   "cell_type": "code",
   "execution_count": 9,
   "metadata": {},
   "outputs": [
    {
     "name": "stdout",
     "output_type": "stream",
     "text": [
      "<class 'pandas.core.frame.DataFrame'>\n",
      "RangeIndex: 48581 entries, 0 to 48580\n",
      "Data columns (total 14 columns):\n",
      "avg_dist                  48581 non-null float64\n",
      "avg_rating_by_driver      48581 non-null float64\n",
      "avg_rating_of_driver      48581 non-null float64\n",
      "avg_surge                 48581 non-null float64\n",
      "last_trip_date            48581 non-null object\n",
      "signup_date               48581 non-null object\n",
      "surge_pct                 48581 non-null float64\n",
      "trips_in_first_30_days    48581 non-null int64\n",
      "weekday_pct               48581 non-null float64\n",
      "longterm_user             48581 non-null int64\n",
      "phone_iPhone              48581 non-null uint8\n",
      "city_Astapor              48581 non-null uint8\n",
      "city_King's Landing       48581 non-null uint8\n",
      "ultimate_black_user_n     48581 non-null int64\n",
      "dtypes: float64(6), int64(3), object(2), uint8(3)\n",
      "memory usage: 4.2+ MB\n"
     ]
    }
   ],
   "source": [
    "df.info()"
   ]
  },
  {
   "cell_type": "code",
   "execution_count": 10,
   "metadata": {
    "collapsed": true
   },
   "outputs": [],
   "source": [
    "#df = df.drop(['city', 'phone','ultimate_black_user'], axis=1)"
   ]
  },
  {
   "cell_type": "code",
   "execution_count": 11,
   "metadata": {},
   "outputs": [
    {
     "data": {
      "text/plain": [
       "(48581, 14)"
      ]
     },
     "execution_count": 11,
     "metadata": {},
     "output_type": "execute_result"
    }
   ],
   "source": [
    "df.shape"
   ]
  },
  {
   "cell_type": "code",
   "execution_count": 12,
   "metadata": {},
   "outputs": [
    {
     "data": {
      "text/plain": [
       "((48581, 14), (48581,))"
      ]
     },
     "execution_count": 12,
     "metadata": {},
     "output_type": "execute_result"
    }
   ],
   "source": [
    "# Prepare the data for modelling\n",
    "X = pd.DataFrame(df.columns)\n",
    "X = df[df.columns]\n",
    "y =df['longterm_user']\n",
    "X.shape , y.shape"
   ]
  },
  {
   "cell_type": "code",
   "execution_count": 13,
   "metadata": {
    "collapsed": true
   },
   "outputs": [],
   "source": [
    "X['last_trip_date'] = pd.to_datetime(X['last_trip_date'])\n",
    "X['last_trip_day'] = X['last_trip_date'].dt.day\n",
    "X['last_trip_month'] = X['last_trip_date'].dt.month"
   ]
  },
  {
   "cell_type": "code",
   "execution_count": 14,
   "metadata": {},
   "outputs": [
    {
     "data": {
      "text/plain": [
       "(48581, 16)"
      ]
     },
     "execution_count": 14,
     "metadata": {},
     "output_type": "execute_result"
    }
   ],
   "source": [
    "X.shape"
   ]
  },
  {
   "cell_type": "code",
   "execution_count": 15,
   "metadata": {
    "collapsed": true
   },
   "outputs": [],
   "source": [
    "# dropped signup_date because it is same month data\n",
    "X = X.drop(['longterm_user','signup_date', 'last_trip_date'], axis=1) "
   ]
  },
  {
   "cell_type": "code",
   "execution_count": 16,
   "metadata": {},
   "outputs": [
    {
     "data": {
      "text/plain": [
       "(48581, 13)"
      ]
     },
     "execution_count": 16,
     "metadata": {},
     "output_type": "execute_result"
    }
   ],
   "source": [
    "X.shape"
   ]
  },
  {
   "cell_type": "code",
   "execution_count": 17,
   "metadata": {},
   "outputs": [
    {
     "data": {
      "text/plain": [
       "((34006, 13), (14575, 13), (34006,), (14575,))"
      ]
     },
     "execution_count": 17,
     "metadata": {},
     "output_type": "execute_result"
    }
   ],
   "source": [
    "# train test split     \n",
    "X_train, X_test, y_train, y_test = train_test_split(X, y, test_size=0.30, random_state=42)\n",
    "X_train.shape, X_test.shape, y_train.shape, y_test.shape"
   ]
  },
  {
   "cell_type": "markdown",
   "metadata": {},
   "source": [
    "Our data is ready to use now. It's time now to train the default classifiers with 70% of the data. Since we have **unbalanced class(23% Yes**), we will choose **Auc score and Precision, recall score** as validation criteria."
   ]
  },
  {
   "cell_type": "code",
   "execution_count": 18,
   "metadata": {},
   "outputs": [
    {
     "name": "stdout",
     "output_type": "stream",
     "text": [
      "[ 0.92756385  0.92492564  0.91754604  0.91607346  0.91753452]\n",
      "0.920728703751\n",
      "             precision    recall  f1-score   support\n",
      "\n",
      "          0       0.92      0.91      0.91     10952\n",
      "          1       0.73      0.75      0.74      3623\n",
      "\n",
      "avg / total       0.87      0.87      0.87     14575\n",
      "\n"
     ]
    }
   ],
   "source": [
    "# KNN Classifier\n",
    "steps = [('scaler', StandardScaler()),\n",
    "         ('knn', KNeighborsClassifier(n_jobs=-1))]\n",
    "#Create the pipeline: pipeline \n",
    "pipeline_knn = Pipeline(steps)\n",
    "\n",
    "# Fit to the training set\n",
    "pipeline_knn.fit(X_train, y_train)\n",
    "pipeline_knn_auc = cross_val_score(pipeline_knn , X_train, y_train, cv=5, scoring='roc_auc', n_jobs=-1)\n",
    "print(pipeline_knn_auc)\n",
    "print(pipeline_knn_auc.mean())\n",
    "knn_prediction = pipeline_knn.predict( X_test )\n",
    "\n",
    "# get the classification report\n",
    "knn_report = classification_report( y_test, knn_prediction )\n",
    "#print the report\n",
    "print(knn_report)\n"
   ]
  },
  {
   "cell_type": "code",
   "execution_count": 19,
   "metadata": {},
   "outputs": [
    {
     "name": "stdout",
     "output_type": "stream",
     "text": [
      "[ 0.97718468  0.97391888  0.97213899  0.97383043  0.97408247]\n",
      "0.974231090133\n",
      "             precision    recall  f1-score   support\n",
      "\n",
      "          0       0.96      0.94      0.95     10952\n",
      "          1       0.82      0.87      0.84      3623\n",
      "\n",
      "avg / total       0.92      0.92      0.92     14575\n",
      "\n"
     ]
    }
   ],
   "source": [
    "# Train default LogisticRegression \n",
    "steps = [('scaler', StandardScaler()),\n",
    "         ('logreg', LogisticRegression())]\n",
    "#Create the pipeline: pipeline \n",
    "pipeline_logreg = Pipeline(steps)\n",
    "\n",
    "# Fit to the training set\n",
    "pipeline_logreg.fit(X_train, y_train)\n",
    "pipeline_logreg_auc = cross_val_score(pipeline_logreg , X_train, y_train, cv=5, scoring='roc_auc', n_jobs=-1)\n",
    "print(pipeline_logreg_auc)\n",
    "print(pipeline_logreg_auc.mean())\n",
    "logreg_prediction = pipeline_logreg.predict( X_test )\n",
    "# get the classification report\n",
    "logreg_report = classification_report(y_test, logreg_prediction )\n",
    "#print the report\n",
    "print(logreg_report)"
   ]
  },
  {
   "cell_type": "code",
   "execution_count": 20,
   "metadata": {},
   "outputs": [
    {
     "name": "stdout",
     "output_type": "stream",
     "text": [
      "[ 0.96598563  0.96487533  0.96177464  0.9617208   0.95907163]\n",
      "0.96268560669\n",
      "             precision    recall  f1-score   support\n",
      "\n",
      "          0       0.94      0.94      0.94     10952\n",
      "          1       0.82      0.80      0.81      3623\n",
      "\n",
      "avg / total       0.91      0.91      0.91     14575\n",
      "\n"
     ]
    }
   ],
   "source": [
    "rf = RandomForestClassifier(random_state=32)\n",
    "rf.fit(X_train, y_train)\n",
    "rf_auc = cross_val_score(rf, X_train, y_train, cv=5, scoring='roc_auc', n_jobs=-1)\n",
    "print(rf_auc)\n",
    "print(rf_auc.mean())\n",
    "rf_prediction = rf.predict( X_test )\n",
    "# get the classification report\n",
    "rf_report = classification_report(y_test, rf_prediction )\n",
    "print(rf_report)"
   ]
  },
  {
   "cell_type": "code",
   "execution_count": 21,
   "metadata": {},
   "outputs": [
    {
     "name": "stdout",
     "output_type": "stream",
     "text": [
      "[ 0.97718028  0.97400421  0.97207728  0.97398024  0.97413619]\n",
      "0.974275640117\n",
      "             precision    recall  f1-score   support\n",
      "\n",
      "          0       0.96      0.94      0.95     10952\n",
      "          1       0.82      0.87      0.84      3623\n",
      "\n",
      "avg / total       0.92      0.92      0.92     14575\n",
      "\n"
     ]
    }
   ],
   "source": [
    "# Train default LinearSV \n",
    "steps = [('scaler', StandardScaler()),\n",
    "         ('svclinear', svm.LinearSVC())]\n",
    "#Create the pipeline: pipeline \n",
    "pipeline_svclinear = Pipeline(steps)\n",
    "\n",
    "# Fit to the training set\n",
    "pipeline_svclinear.fit(X_train, y_train)\n",
    "svclin = cross_val_score(pipeline_svclinear, X_train, y_train, cv=5, scoring='roc_auc', n_jobs=-1)\n",
    "print(svclin)\n",
    "print(svclin.mean())\n",
    "svclinear_prediction = pipeline_svclinear.predict( X_test )\n",
    "# get the classification report\n",
    "svclinear_report = classification_report( y_test, svclinear_prediction )\n",
    "#print the report\n",
    "print(svclinear_report)"
   ]
  },
  {
   "cell_type": "code",
   "execution_count": 22,
   "metadata": {},
   "outputs": [
    {
     "name": "stdout",
     "output_type": "stream",
     "text": [
      "[ 0.97282053  0.96912854  0.96746292  0.96851112  0.96750286]\n",
      "0.969085194232\n",
      "             precision    recall  f1-score   support\n",
      "\n",
      "          0       0.96      0.93      0.94     10952\n",
      "          1       0.81      0.88      0.84      3623\n",
      "\n",
      "avg / total       0.92      0.92      0.92     14575\n",
      "\n"
     ]
    }
   ],
   "source": [
    "# SVC Model\n",
    "steps = [('scaler', StandardScaler()),\n",
    "         ('svc', svm.SVC(probability=True))]\n",
    "#Create the pipeline: pipeline \n",
    "pipeline_svc = Pipeline(steps)\n",
    "\n",
    "# Fit to the training set\n",
    "pipeline_svc.fit(X_train, y_train)\n",
    "svc_auc = cross_val_score(pipeline_svc, X_train, y_train, cv=5, scoring='roc_auc', n_jobs=-1)\n",
    "print(svc_auc)\n",
    "print(svc_auc.mean())\n",
    "svc_prediction = pipeline_svc.predict( X_test )\n",
    "# get the classification report\n",
    "svc_report = classification_report( y_test, svc_prediction )\n",
    "#print the report\n",
    "print(svc_report)"
   ]
  },
  {
   "cell_type": "code",
   "execution_count": 23,
   "metadata": {},
   "outputs": [
    {
     "name": "stdout",
     "output_type": "stream",
     "text": [
      "[ 0.97712607  0.97424745  0.97197534  0.97383807  0.97350297]\n",
      "0.974137980817\n",
      "             precision    recall  f1-score   support\n",
      "\n",
      "          0       0.95      0.94      0.95     10952\n",
      "          1       0.82      0.86      0.84      3623\n",
      "\n",
      "avg / total       0.92      0.92      0.92     14575\n",
      "\n"
     ]
    }
   ],
   "source": [
    "# Train default GBMode\n",
    "gbmodel= GradientBoostingClassifier(random_state = 32)\n",
    "# Fit to the training set\n",
    "gbmodel.fit(X_train, y_train)\n",
    "gb_auc = cross_val_score(gbmodel, X_train, y_train, cv=5, scoring='roc_auc', n_jobs=-1)\n",
    "print(gb_auc)\n",
    "print(gb_auc.mean())\n",
    "gbmodel_prediction = gbmodel.predict( X_test )\n",
    "# get the classification report\n",
    "gbmodel_report = classification_report(y_test, gbmodel_prediction )\n",
    "#print the report\n",
    "print(gbmodel_report)"
   ]
  },
  {
   "cell_type": "code",
   "execution_count": 24,
   "metadata": {},
   "outputs": [
    {
     "data": {
      "text/plain": [
       "last_trip_month           0.417614\n",
       "last_trip_day             0.179758\n",
       "avg_dist                  0.104851\n",
       "trips_in_first_30_days    0.054618\n",
       "surge_pct                 0.044811\n",
       "avg_surge                 0.042916\n",
       "weekday_pct               0.042444\n",
       "avg_rating_of_driver      0.041975\n",
       "avg_rating_by_driver      0.032284\n",
       "city_King's Landing       0.018129\n",
       "phone_iPhone              0.010880\n",
       "city_Astapor              0.009720\n",
       "ultimate_black_user_n     0.000000\n",
       "dtype: float64"
      ]
     },
     "execution_count": 24,
     "metadata": {},
     "output_type": "execute_result"
    }
   ],
   "source": [
    "feature_import_gbmodel = pd.Series(gbmodel.feature_importances_, index=X_test.columns)\n",
    "feature_import_gbmodel.sort_values(ascending=False)"
   ]
  },
  {
   "cell_type": "markdown",
   "metadata": {},
   "source": [
    "Choose linearsvc or logistic or GradientBoostingClassifier"
   ]
  },
  {
   "cell_type": "code",
   "execution_count": 25,
   "metadata": {},
   "outputs": [
    {
     "data": {
      "text/plain": [
       "<matplotlib.text.Text at 0xc931438>"
      ]
     },
     "execution_count": 25,
     "metadata": {},
     "output_type": "execute_result"
    },
    {
     "data": {
      "image/png": "[encoded data removed]",
      "text/plain": [
       "<matplotlib.figure.Figure at 0xc59e198>"
      ]
     },
     "metadata": {},
     "output_type": "display_data"
    }
   ],
   "source": [
    "#plot ROC Curves\n",
    "fig , ax1 = plt.subplots(figsize=(9,9) )\n",
    "plt.plot([0, 1], [0, 1], 'k--')\n",
    "estimators =[pipeline_knn, pipeline_logreg, rf, gbmodel, pipeline_svc, pipeline_svclinear]\n",
    "classifiers=['KNN', 'LogisticRegression', 'RandomForestClassifier','GradientBoostingClassifier','SVC', 'LinearSVC']\n",
    "colors = ['b', 'g', 'r', 'c','aqua','darkorange']\n",
    "for i, estimator in enumerate(estimators):\n",
    "    if (estimator == pipeline_svclinear):\n",
    "        y_pred_prob = estimator.decision_function(X_test)\n",
    "    else:\n",
    "        y_pred_prob = estimator.predict_proba(X_test)[:,1]\n",
    "    fpr, tpr, thresholds= roc_curve(y_test, y_pred_prob)\n",
    "    plt.plot(fpr, tpr, label=classifiers[i],color=colors[i])\n",
    "plt.xlabel('False Positive Rate')\n",
    "plt.ylabel('True Positive Rate')\n",
    "plt.legend(loc=4)\n",
    "plt.title('ROC Curve')"
   ]
  },
  {
   "cell_type": "code",
   "execution_count": 26,
   "metadata": {},
   "outputs": [
    {
     "data": {
      "text/plain": [
       "<matplotlib.text.Text at 0xd8c4390>"
      ]
     },
     "execution_count": 26,
     "metadata": {},
     "output_type": "execute_result"
    },
    {
     "data": {
      "image/png": "[encoded data removed]",
      "text/plain": [
       "<matplotlib.figure.Figure at 0xd7e9c18>"
      ]
     },
     "metadata": {},
     "output_type": "display_data"
    }
   ],
   "source": [
    "#plot Recall-Precision Curves\n",
    "fig , ax1 = plt.subplots(figsize=(9,9) )\n",
    "estimators =[pipeline_knn, pipeline_logreg, rf, gbmodel, pipeline_svc, pipeline_svclinear]\n",
    "classifiers=['KNN', 'LogisticRegression', 'RandomForestClassifier','GradientBoostingClassifier','SVC', 'LinearSVC']\n",
    "colors = ['b', 'g', 'r', 'c','aqua','darkorange']\n",
    "for i, estimator in enumerate(estimators):\n",
    "    if (estimator == pipeline_svclinear):\n",
    "        y_pred_prob = estimator.decision_function(X_test)\n",
    "    else:\n",
    "        y_pred_prob = estimator.predict_proba(X_test)[:,1]\n",
    "    precision, recall, _ = precision_recall_curve(y_test,y_pred_prob)\n",
    "    average_precision= average_precision_score(y_test, y_pred_prob, average=\"micro\")\n",
    "    plt.plot(recall, precision, label='%s (average=%.3f)'%(classifiers[i],average_precision), color=colors[i])\n",
    "plt.xlabel('Recall')\n",
    "plt.ylabel('Precision')\n",
    "plt.legend(loc=1)\n",
    "plt.title('Recall Precision Curve')"
   ]
  },
  {
   "cell_type": "code",
   "execution_count": null,
   "metadata": {
    "collapsed": true
   },
   "outputs": [],
   "source": []
  },
  {
   "cell_type": "code",
   "execution_count": 27,
   "metadata": {
    "scrolled": true
   },
   "outputs": [
    {
     "name": "stdout",
     "output_type": "stream",
     "text": [
      "knn_roc_auc_score: 0.830464585181\n",
      "logreg_roc_auc_score: 0.902169381581\n",
      "rf_prediction_roc_auc_score: 0.872977020444\n",
      "svclinear_prediction_roc_auc_score: 0.901846667575\n",
      "svc_prediction_prediction_roc_auc_score: 0.904903743271\n",
      "gbmodel_prediction_roc_auc_score: 0.89870351381\n"
     ]
    }
   ],
   "source": [
    "print('knn_roc_auc_score:',roc_auc_score(y_test, knn_prediction))\n",
    "print('logreg_roc_auc_score:', roc_auc_score(y_test, logreg_prediction))\n",
    "print('rf_prediction_roc_auc_score:', roc_auc_score(y_test, rf_prediction))\n",
    "print('svclinear_prediction_roc_auc_score:', roc_auc_score(y_test, svclinear_prediction))\n",
    "print('svc_prediction_prediction_roc_auc_score:', roc_auc_score(y_test, svc_prediction))\n",
    "print('gbmodel_prediction_roc_auc_score:', roc_auc_score(y_test, gbmodel_prediction))"
   ]
  },
  {
   "cell_type": "markdown",
   "metadata": {},
   "source": [
    "As you can see from the above diagrams we have LogisticRegression, GradientBoostingClassifier and  LinearSVC has high precision and recall curve, I chose to tune these classifiers further."
   ]
  },
  {
   "cell_type": "code",
   "execution_count": 28,
   "metadata": {},
   "outputs": [
    {
     "name": "stdout",
     "output_type": "stream",
     "text": [
      "Tuned Decision Tree Parameters: {'logreg__C': 0.1, 'logreg__penalty': 'l1'}\n",
      "Best score is 0.9742702553919479\n"
     ]
    }
   ],
   "source": [
    "# Tune Logistic Regression\n",
    "steps = [('scaler', StandardScaler()),\n",
    "         ('logreg', LogisticRegression())]\n",
    "\n",
    "pipeline = Pipeline(steps)\n",
    "\n",
    "param_dist = {\"logreg__penalty\":['l1','l2'],\n",
    "              \"logreg__C\":[.01, .001 , .1, 1, 10, 100]\n",
    "             }\n",
    "\n",
    "# Instantiate a Decision Tree classifier: tree\n",
    "tree = RandomForestClassifier()\n",
    "\n",
    "# Instantiate the RandomizedSearchCV object: tree_cv\n",
    "logreg_cv = GridSearchCV(pipeline, param_dist, cv=5, scoring='roc_auc',n_jobs=-1)\n",
    "\n",
    "# Fit it to the data\n",
    "logreg_cv.fit(X_train,y_train)\n",
    "\n",
    "# Print the tuned parameters and score\n",
    "print(\"Tuned Decision Tree Parameters: {}\".format(logreg_cv.best_params_))\n",
    "print(\"Best score is {}\".format(logreg_cv.best_score_))"
   ]
  },
  {
   "cell_type": "code",
   "execution_count": 29,
   "metadata": {},
   "outputs": [
    {
     "name": "stdout",
     "output_type": "stream",
     "text": [
      "[ 0.97652065  0.97285748  0.97096077  0.97227201  0.97270651]\n",
      "0.973063481896\n",
      "             precision    recall  f1-score   support\n",
      "\n",
      "          0       0.96      0.93      0.95     10952\n",
      "          1       0.82      0.88      0.84      3623\n",
      "\n",
      "avg / total       0.92      0.92      0.92     14575\n",
      "\n"
     ]
    }
   ],
   "source": [
    "# Train Tuned LogisticRegression \n",
    "steps = [('scaler', StandardScaler()),\n",
    "         ('logreg', LogisticRegression(C=0.1))]\n",
    "#Create the pipeline: pipeline \n",
    "pipeline_logreg_tuned = Pipeline(steps)\n",
    "\n",
    "# Fit to the training set\n",
    "pipeline_logreg_tuned.fit(X_train, y_train)\n",
    "pipeline_logreg_auc = cross_val_score(pipeline_logreg_tuned , X_train, y_train, cv=5, scoring='roc_auc', n_jobs=-1)\n",
    "print(pipeline_logreg_auc)\n",
    "print(pipeline_logreg_auc.mean())\n",
    "logreg_prediction = pipeline_logreg_tuned.predict( X_test )\n",
    "# get the classification report\n",
    "logreg_report = classification_report(y_test, logreg_prediction )\n",
    "#print the report\n",
    "print(logreg_report)"
   ]
  },
  {
   "cell_type": "code",
   "execution_count": 30,
   "metadata": {},
   "outputs": [
    {
     "name": "stdout",
     "output_type": "stream",
     "text": [
      "Tuned Decision Tree Parameters: {'subsample': 0.8, 'n_estimators': 500, 'min_samples_leaf': 50, 'learning_rate': 0.01}\n",
      "Best score is 0.9742887719316395\n"
     ]
    }
   ],
   "source": [
    "# Tune GradientBoosting Classifier\n",
    "\n",
    "param_dist = {'learning_rate': [0.1, 0.05, 0.02, 0.01],\n",
    "               'min_samples_leaf': [5, 20, 50,100,150],\n",
    "              'n_estimators': [100, 200, 500],\n",
    "              'subsample':[.5, .8, 1]}\n",
    "\n",
    "# Instantiate a Decision Tree classifier: tree\n",
    "gm = GradientBoostingClassifier()\n",
    "\n",
    "# Instantiate the RandomizedSearchCV object: tree_cv\n",
    "gm_cv = RandomizedSearchCV(gm, param_dist, cv=5, scoring='roc_auc',n_jobs=-1)\n",
    "\n",
    "# Fit it to the data\n",
    "gm_cv.fit(X_train,y_train)\n",
    "\n",
    "# Print the tuned parameters and score\n",
    "print(\"Tuned Decision Tree Parameters: {}\".format(gm_cv.best_params_))\n",
    "print(\"Best score is {}\".format(gm_cv.best_score_))"
   ]
  },
  {
   "cell_type": "code",
   "execution_count": 31,
   "metadata": {},
   "outputs": [
    {
     "name": "stdout",
     "output_type": "stream",
     "text": [
      "[ 0.97727643  0.97417515  0.97204643  0.97394881  0.97382435]\n",
      "0.974254233881\n",
      "             precision    recall  f1-score   support\n",
      "\n",
      "          0       0.95      0.94      0.95     10952\n",
      "          1       0.82      0.86      0.84      3623\n",
      "\n",
      "avg / total       0.92      0.92      0.92     14575\n",
      "\n"
     ]
    }
   ],
   "source": [
    "# Train Tuned GradientBoostingClassifier\n",
    "gbmodel_tuned= GradientBoostingClassifier(random_state = 32,subsample= 0.8, n_estimators= 500, min_samples_leaf= 5, learning_rate= 0.01)\n",
    "# Fit to the training set\n",
    "gbmodel_tuned.fit(X_train, y_train)\n",
    "gb_auc = cross_val_score(gbmodel_tuned, X_train, y_train, cv=5, scoring='roc_auc', n_jobs=-1)\n",
    "print(gb_auc)\n",
    "print(gb_auc.mean())\n",
    "gbmodel_prediction = gbmodel_tuned.predict( X_test )\n",
    "# get the classification report\n",
    "gbmodel_report = classification_report(y_test, gbmodel_prediction )\n",
    "#print the report\n",
    "print(gbmodel_report)"
   ]
  },
  {
   "cell_type": "code",
   "execution_count": 32,
   "metadata": {},
   "outputs": [
    {
     "name": "stdout",
     "output_type": "stream",
     "text": [
      "Tuned Decision Tree Parameters: {'linearsvc__C': 1, 'linearsvc__class_weight': None}\n",
      "Best score is 0.9742761884770381\n"
     ]
    }
   ],
   "source": [
    "# Tune LinearSVC\n",
    "steps = [('scaler', StandardScaler()),\n",
    "         ('linearsvc', svm.LinearSVC())]\n",
    "\n",
    "pipeline = Pipeline(steps)\n",
    "\n",
    "param_dist = {\"linearsvc__class_weight\" :[None,'balanced'],\n",
    "              \"linearsvc__C\":[.01, .001 , .1, 1, 10, 100]\n",
    "             }\n",
    "\n",
    "\n",
    "# Instantiate the RandomizedSearchCV object: tree_cv\n",
    "linear_cv = GridSearchCV(pipeline, param_dist, cv=5, scoring='roc_auc',n_jobs=-1)\n",
    "\n",
    "# Fit it to the data\n",
    "linear_cv.fit(X_train,y_train)\n",
    "\n",
    "# Print the tuned parameters and score\n",
    "print(\"Tuned Decision Tree Parameters: {}\".format(linear_cv.best_params_))\n",
    "print(\"Best score is {}\".format(linear_cv.best_score_))"
   ]
  },
  {
   "cell_type": "markdown",
   "metadata": {},
   "source": [
    "As we can see above LinearSVC has best result on default parameters. Further tuning is not needed."
   ]
  },
  {
   "cell_type": "code",
   "execution_count": 33,
   "metadata": {},
   "outputs": [
    {
     "data": {
      "text/plain": [
       "<matplotlib.text.Text at 0xed1d320>"
      ]
     },
     "execution_count": 33,
     "metadata": {},
     "output_type": "execute_result"
    },
    {
     "data": {
      "image/png": "[encoded data removed]",
      "text/plain": [
       "<matplotlib.figure.Figure at 0xecde358>"
      ]
     },
     "metadata": {},
     "output_type": "display_data"
    }
   ],
   "source": [
    "#plot Recall-Precision Curves after tuning\n",
    "fig , ax1 = plt.subplots(figsize=(9,9) )\n",
    "estimators =[pipeline_logreg_tuned, gbmodel_tuned, pipeline_svclinear]\n",
    "classifiers=['LogisticRegression','GradientBoostingClassifier', 'LinearSVC']\n",
    "colors = ['b', 'g', 'r']\n",
    "for i, estimator in enumerate(estimators):\n",
    "    if (estimator == pipeline_svclinear):\n",
    "        y_pred_prob = estimator.decision_function(X_test)\n",
    "    else:\n",
    "        y_pred_prob = estimator.predict_proba(X_test)[:,1]\n",
    "    precision, recall, _ = precision_recall_curve(y_test,y_pred_prob)\n",
    "    average_precision= average_precision_score(y_test, y_pred_prob, average=\"micro\")\n",
    "    plt.plot(recall, precision, label='%s (average=%.3f)'%(classifiers[i],average_precision), color=colors[i])\n",
    "plt.xlabel('Recall')\n",
    "plt.ylabel('Precision')\n",
    "plt.legend(loc=1)\n",
    "plt.title('Recall Precision Curve')"
   ]
  },
  {
   "cell_type": "markdown",
   "metadata": {},
   "source": [
    "I would suggest **Linear SVC model** here , because it has both **highest precision(0.82 ) and highest recall(0.87)** score."
   ]
  },
  {
   "cell_type": "markdown",
   "metadata": {},
   "source": [
    "# Some Recommendations "
   ]
  },
  {
   "cell_type": "markdown",
   "metadata": {},
   "source": [
    "+ Ultimate black users i.e. **people who took ride in 1st 30 days are the potential long term-user**. Bar graph below clearly shows this trend. So, in my opinion **company can encourage customers to take ride within 30 days of singing** by using some reward program or any different marketing strategies."
   ]
  },
  {
   "cell_type": "code",
   "execution_count": 34,
   "metadata": {},
   "outputs": [
    {
     "data": {
      "text/plain": [
       "<matplotlib.axes._subplots.AxesSubplot at 0x53d3e48>"
      ]
     },
     "execution_count": 34,
     "metadata": {},
     "output_type": "execute_result"
    },
    {
     "data": {
      "image/png": "[encoded data removed]",
      "text/plain": [
       "<matplotlib.figure.Figure at 0xd89b240>"
      ]
     },
     "metadata": {},
     "output_type": "display_data"
    }
   ],
   "source": [
    "sns.countplot('longterm_user',hue='ultimate_black_user_n', data=df)"
   ]
  },
  {
   "cell_type": "markdown",
   "metadata": {},
   "source": [
    "+ A customer being long time user **doesn’t depend on what kind of the phone (android or iPhone) customer is using**.  So, they can drop this feature going ahead while collecting the data for prediction purpose."
   ]
  },
  {
   "cell_type": "code",
   "execution_count": 35,
   "metadata": {},
   "outputs": [
    {
     "data": {
      "text/plain": [
       "<matplotlib.axes._subplots.AxesSubplot at 0xedcee80>"
      ]
     },
     "execution_count": 35,
     "metadata": {},
     "output_type": "execute_result"
    },
    {
     "data": {
      "image/png": "[encoded data removed]",
      "text/plain": [
       "<matplotlib.figure.Figure at 0xd81c320>"
      ]
     },
     "metadata": {},
     "output_type": "display_data"
    }
   ],
   "source": [
    "sns.countplot('phone',hue='longterm_user', data=df1)"
   ]
  },
  {
   "cell_type": "markdown",
   "metadata": {},
   "source": [
    "Most of the **long- term users are from King's Landing city**. Company can prioritize this city to attract more customer."
   ]
  },
  {
   "cell_type": "code",
   "execution_count": 36,
   "metadata": {},
   "outputs": [
    {
     "data": {
      "text/plain": [
       "city\n",
       "King's Landing    0.402622\n",
       "Winterfell        0.237808\n",
       "Astapor           0.167912\n",
       "Name: longterm_user, dtype: float64"
      ]
     },
     "execution_count": 36,
     "metadata": {},
     "output_type": "execute_result"
    }
   ],
   "source": [
    "df1.groupby('city')['longterm_user'].mean().sort_values(ascending=False)"
   ]
  },
  {
   "cell_type": "code",
   "execution_count": 37,
   "metadata": {},
   "outputs": [
    {
     "data": {
      "text/plain": [
       "<matplotlib.axes._subplots.AxesSubplot at 0xc5b6c50>"
      ]
     },
     "execution_count": 37,
     "metadata": {},
     "output_type": "execute_result"
    },
    {
     "data": {
      "image/png": "[encoded data removed]",
      "text/plain": [
       "<matplotlib.figure.Figure at 0x3b22c50>"
      ]
     },
     "metadata": {},
     "output_type": "display_data"
    }
   ],
   "source": [
    "sns.countplot('city',hue='longterm_user', data=df1)"
   ]
  }
 ],
 "metadata": {
  "kernelspec": {
   "display_name": "Python 3",
   "language": "python",
   "name": "python3"
  },
  "language_info": {
   "codemirror_mode": {
    "name": "ipython",
    "version": 3
   },
   "file_extension": ".py",
   "mimetype": "text/x-python",
   "name": "python",
   "nbconvert_exporter": "python",
   "pygments_lexer": "ipython3",
   "version": "3.6.1"
  }
 },
 "nbformat": 4,
 "nbformat_minor": 2
}
